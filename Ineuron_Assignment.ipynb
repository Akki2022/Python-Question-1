{
  "nbformat": 4,
  "nbformat_minor": 0,
  "metadata": {
    "colab": {
      "provenance": []
    },
    "kernelspec": {
      "name": "python3",
      "display_name": "Python 3"
    },
    "language_info": {
      "name": "python"
    }
  },
  "cells": [
    {
      "cell_type": "code",
      "execution_count": 11,
      "metadata": {
        "id": "UjbHa5y2qpFZ",
        "colab": {
          "base_uri": "https://localhost:8080/"
        },
        "outputId": "542df3b7-d40c-40af-e090-3662c44bedb3"
      },
      "outputs": [
        {
          "output_type": "stream",
          "name": "stdout",
          "text": [
            "Length of the highest-frequency word: 5\n"
          ]
        }
      ],
      "source": [
        "\n",
        "a= \"My name is Ankit is is is Ankit Ankit name Ankit Ankit My Ankit\"\n",
        "b=a.split()\n",
        "# In the above code, I defined a string 'a' and then split it into individual words using the split() method. The results are then stored to another variable \"b\".\n",
        "counts = {}    # Creating an empty dictionary to store the frequencies of words.\n",
        "for word in b: #Iterating over the words present in the list b\n",
        "    if word in counts:   #If the word is already present as a key in the counts dictionary,its count is incremented by 1.\n",
        "        counts[word] += 1\n",
        "    else:\n",
        "       counts[word] = 1      #If not then,  a new key-value pair is created, with the word as the key and an initial count of 1.\n",
        "\n",
        "\n",
        "max_freq = max(counts.values())    #finds the maximum frequency among all the word counts by using the max() function\n",
        "print(max_freq)     #It returns the highest count of the most repeated word\n",
        "\n",
        "max_freq_length = 0      #Initializing a variable to 0\n",
        "for word in counts:           #Iterating each word in a count dictionary\n",
        "    if counts[word] == max_freq:                # If the count of the word matches the maximum frequency (max_freq)\n",
        "        max_freq_length = max(max_freq_length, len(word))  #, it compares the length of the word with the current max_freq_length .\n",
        "\n",
        "print(\"Length of the highest-frequency word:\", max_freq_length)\n"
      ]
    },
    {
      "cell_type": "code",
      "source": [],
      "metadata": {
        "id": "PHe8bLoN50eq",
        "colab": {
          "base_uri": "https://localhost:8080/"
        },
        "outputId": "d40753b5-4894-4752-9d7d-087d38177437"
      },
      "execution_count": 6,
      "outputs": [
        {
          "output_type": "execute_result",
          "data": {
            "text/plain": [
              "6"
            ]
          },
          "metadata": {},
          "execution_count": 6
        }
      ]
    },
    {
      "cell_type": "code",
      "source": [
        "counts"
      ],
      "metadata": {
        "colab": {
          "base_uri": "https://localhost:8080/"
        },
        "id": "e5pSnrbiKemw",
        "outputId": "ba0bada1-44ad-46d8-abda-1a0ea953d087"
      },
      "execution_count": 7,
      "outputs": [
        {
          "output_type": "execute_result",
          "data": {
            "text/plain": [
              "{'My': 2, 'name': 2, 'is': 4, 'Ankit': 6}"
            ]
          },
          "metadata": {},
          "execution_count": 7
        }
      ]
    },
    {
      "cell_type": "code",
      "source": [],
      "metadata": {
        "id": "0mE3OVMOKp7-"
      },
      "execution_count": null,
      "outputs": []
    }
  ]
}